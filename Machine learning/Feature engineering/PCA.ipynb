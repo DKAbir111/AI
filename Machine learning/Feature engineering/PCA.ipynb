{
 "cells": [
  {
   "cell_type": "code",
   "execution_count": 30,
   "metadata": {
    "id": "HdmPaqy7XgPK"
   },
   "outputs": [],
   "source": [
    "import numpy as np\n",
    "from sklearn.decomposition import PCA\n",
    "from sklearn.preprocessing import StandardScaler\n",
    "import matplotlib.pyplot as plt\n",
    "import pandas as pd\n",
    "from sklearn.neighbors import KNeighborsClassifier\n",
    "from sklearn.metrics import accuracy_score"
   ]
  },
  {
   "cell_type": "code",
   "execution_count": 31,
   "metadata": {
    "id": "wS29Iwkn5cj2"
   },
   "outputs": [],
   "source": [
    "\n",
    "url = \"https://archive.ics.uci.edu/ml/machine-learning-databases/iris/iris.data\"\n",
    "\n",
    "# load dataset into Pandas DataFrame\n",
    "df = pd.read_csv(url, names=['sepal length','sepal width','petal length','petal width','target'])"
   ]
  },
  {
   "cell_type": "code",
   "execution_count": 32,
   "metadata": {
    "colab": {
     "base_uri": "https://localhost:8080/",
     "height": 423
    },
    "id": "vDxcbGRj5hPN",
    "outputId": "bd05bb66-01b2-4947-d867-48cd69228337"
   },
   "outputs": [
    {
     "data": {
      "text/html": [
       "<div>\n",
       "<style scoped>\n",
       "    .dataframe tbody tr th:only-of-type {\n",
       "        vertical-align: middle;\n",
       "    }\n",
       "\n",
       "    .dataframe tbody tr th {\n",
       "        vertical-align: top;\n",
       "    }\n",
       "\n",
       "    .dataframe thead th {\n",
       "        text-align: right;\n",
       "    }\n",
       "</style>\n",
       "<table border=\"1\" class=\"dataframe\">\n",
       "  <thead>\n",
       "    <tr style=\"text-align: right;\">\n",
       "      <th></th>\n",
       "      <th>sepal length</th>\n",
       "      <th>sepal width</th>\n",
       "      <th>petal length</th>\n",
       "      <th>petal width</th>\n",
       "      <th>target</th>\n",
       "    </tr>\n",
       "  </thead>\n",
       "  <tbody>\n",
       "    <tr>\n",
       "      <th>0</th>\n",
       "      <td>5.1</td>\n",
       "      <td>3.5</td>\n",
       "      <td>1.4</td>\n",
       "      <td>0.2</td>\n",
       "      <td>Iris-setosa</td>\n",
       "    </tr>\n",
       "    <tr>\n",
       "      <th>1</th>\n",
       "      <td>4.9</td>\n",
       "      <td>3.0</td>\n",
       "      <td>1.4</td>\n",
       "      <td>0.2</td>\n",
       "      <td>Iris-setosa</td>\n",
       "    </tr>\n",
       "    <tr>\n",
       "      <th>2</th>\n",
       "      <td>4.7</td>\n",
       "      <td>3.2</td>\n",
       "      <td>1.3</td>\n",
       "      <td>0.2</td>\n",
       "      <td>Iris-setosa</td>\n",
       "    </tr>\n",
       "    <tr>\n",
       "      <th>3</th>\n",
       "      <td>4.6</td>\n",
       "      <td>3.1</td>\n",
       "      <td>1.5</td>\n",
       "      <td>0.2</td>\n",
       "      <td>Iris-setosa</td>\n",
       "    </tr>\n",
       "    <tr>\n",
       "      <th>4</th>\n",
       "      <td>5.0</td>\n",
       "      <td>3.6</td>\n",
       "      <td>1.4</td>\n",
       "      <td>0.2</td>\n",
       "      <td>Iris-setosa</td>\n",
       "    </tr>\n",
       "    <tr>\n",
       "      <th>...</th>\n",
       "      <td>...</td>\n",
       "      <td>...</td>\n",
       "      <td>...</td>\n",
       "      <td>...</td>\n",
       "      <td>...</td>\n",
       "    </tr>\n",
       "    <tr>\n",
       "      <th>145</th>\n",
       "      <td>6.7</td>\n",
       "      <td>3.0</td>\n",
       "      <td>5.2</td>\n",
       "      <td>2.3</td>\n",
       "      <td>Iris-virginica</td>\n",
       "    </tr>\n",
       "    <tr>\n",
       "      <th>146</th>\n",
       "      <td>6.3</td>\n",
       "      <td>2.5</td>\n",
       "      <td>5.0</td>\n",
       "      <td>1.9</td>\n",
       "      <td>Iris-virginica</td>\n",
       "    </tr>\n",
       "    <tr>\n",
       "      <th>147</th>\n",
       "      <td>6.5</td>\n",
       "      <td>3.0</td>\n",
       "      <td>5.2</td>\n",
       "      <td>2.0</td>\n",
       "      <td>Iris-virginica</td>\n",
       "    </tr>\n",
       "    <tr>\n",
       "      <th>148</th>\n",
       "      <td>6.2</td>\n",
       "      <td>3.4</td>\n",
       "      <td>5.4</td>\n",
       "      <td>2.3</td>\n",
       "      <td>Iris-virginica</td>\n",
       "    </tr>\n",
       "    <tr>\n",
       "      <th>149</th>\n",
       "      <td>5.9</td>\n",
       "      <td>3.0</td>\n",
       "      <td>5.1</td>\n",
       "      <td>1.8</td>\n",
       "      <td>Iris-virginica</td>\n",
       "    </tr>\n",
       "  </tbody>\n",
       "</table>\n",
       "<p>150 rows × 5 columns</p>\n",
       "</div>"
      ],
      "text/plain": [
       "     sepal length  sepal width  petal length  petal width          target\n",
       "0             5.1          3.5           1.4          0.2     Iris-setosa\n",
       "1             4.9          3.0           1.4          0.2     Iris-setosa\n",
       "2             4.7          3.2           1.3          0.2     Iris-setosa\n",
       "3             4.6          3.1           1.5          0.2     Iris-setosa\n",
       "4             5.0          3.6           1.4          0.2     Iris-setosa\n",
       "..            ...          ...           ...          ...             ...\n",
       "145           6.7          3.0           5.2          2.3  Iris-virginica\n",
       "146           6.3          2.5           5.0          1.9  Iris-virginica\n",
       "147           6.5          3.0           5.2          2.0  Iris-virginica\n",
       "148           6.2          3.4           5.4          2.3  Iris-virginica\n",
       "149           5.9          3.0           5.1          1.8  Iris-virginica\n",
       "\n",
       "[150 rows x 5 columns]"
      ]
     },
     "execution_count": 32,
     "metadata": {},
     "output_type": "execute_result"
    }
   ],
   "source": [
    "df"
   ]
  },
  {
   "cell_type": "code",
   "execution_count": 33,
   "metadata": {
    "id": "-71KvUbY5nAl"
   },
   "outputs": [],
   "source": [
    "X = df.iloc[:,:-1]\n",
    "y = df.iloc[:,-1]"
   ]
  },
  {
   "cell_type": "markdown",
   "metadata": {
    "id": "mKy1NkNi9EEE"
   },
   "source": [
    "# **Scaling**"
   ]
  },
  {
   "cell_type": "code",
   "execution_count": 34,
   "metadata": {
    "id": "BpG7aErv5yN0"
   },
   "outputs": [],
   "source": [
    "X_scaled = StandardScaler().fit_transform(X)"
   ]
  },
  {
   "cell_type": "code",
   "execution_count": 35,
   "metadata": {
    "colab": {
     "base_uri": "https://localhost:8080/"
    },
    "id": "dpLOpFMa6Fe1",
    "outputId": "9fae887e-34a9-4186-c132-ce1db3f24424"
   },
   "outputs": [
    {
     "data": {
      "text/plain": [
       "array([[-9.00681170e-01,  1.03205722e+00, -1.34127240e+00,\n",
       "        -1.31297673e+00],\n",
       "       [-1.14301691e+00, -1.24957601e-01, -1.34127240e+00,\n",
       "        -1.31297673e+00],\n",
       "       [-1.38535265e+00,  3.37848329e-01, -1.39813811e+00,\n",
       "        -1.31297673e+00],\n",
       "       [-1.50652052e+00,  1.06445364e-01, -1.28440670e+00,\n",
       "        -1.31297673e+00],\n",
       "       [-1.02184904e+00,  1.26346019e+00, -1.34127240e+00,\n",
       "        -1.31297673e+00],\n",
       "       [-5.37177559e-01,  1.95766909e+00, -1.17067529e+00,\n",
       "        -1.05003079e+00],\n",
       "       [-1.50652052e+00,  8.00654259e-01, -1.34127240e+00,\n",
       "        -1.18150376e+00],\n",
       "       [-1.02184904e+00,  8.00654259e-01, -1.28440670e+00,\n",
       "        -1.31297673e+00],\n",
       "       [-1.74885626e+00, -3.56360566e-01, -1.34127240e+00,\n",
       "        -1.31297673e+00],\n",
       "       [-1.14301691e+00,  1.06445364e-01, -1.28440670e+00,\n",
       "        -1.44444970e+00],\n",
       "       [-5.37177559e-01,  1.49486315e+00, -1.28440670e+00,\n",
       "        -1.31297673e+00],\n",
       "       [-1.26418478e+00,  8.00654259e-01, -1.22754100e+00,\n",
       "        -1.31297673e+00],\n",
       "       [-1.26418478e+00, -1.24957601e-01, -1.34127240e+00,\n",
       "        -1.44444970e+00],\n",
       "       [-1.87002413e+00, -1.24957601e-01, -1.51186952e+00,\n",
       "        -1.44444970e+00],\n",
       "       [-5.25060772e-02,  2.18907205e+00, -1.45500381e+00,\n",
       "        -1.31297673e+00],\n",
       "       [-1.73673948e-01,  3.11468391e+00, -1.28440670e+00,\n",
       "        -1.05003079e+00],\n",
       "       [-5.37177559e-01,  1.95766909e+00, -1.39813811e+00,\n",
       "        -1.05003079e+00],\n",
       "       [-9.00681170e-01,  1.03205722e+00, -1.34127240e+00,\n",
       "        -1.18150376e+00],\n",
       "       [-1.73673948e-01,  1.72626612e+00, -1.17067529e+00,\n",
       "        -1.18150376e+00],\n",
       "       [-9.00681170e-01,  1.72626612e+00, -1.28440670e+00,\n",
       "        -1.18150376e+00],\n",
       "       [-5.37177559e-01,  8.00654259e-01, -1.17067529e+00,\n",
       "        -1.31297673e+00],\n",
       "       [-9.00681170e-01,  1.49486315e+00, -1.28440670e+00,\n",
       "        -1.05003079e+00],\n",
       "       [-1.50652052e+00,  1.26346019e+00, -1.56873522e+00,\n",
       "        -1.31297673e+00],\n",
       "       [-9.00681170e-01,  5.69251294e-01, -1.17067529e+00,\n",
       "        -9.18557817e-01],\n",
       "       [-1.26418478e+00,  8.00654259e-01, -1.05694388e+00,\n",
       "        -1.31297673e+00],\n",
       "       [-1.02184904e+00, -1.24957601e-01, -1.22754100e+00,\n",
       "        -1.31297673e+00],\n",
       "       [-1.02184904e+00,  8.00654259e-01, -1.22754100e+00,\n",
       "        -1.05003079e+00],\n",
       "       [-7.79513300e-01,  1.03205722e+00, -1.28440670e+00,\n",
       "        -1.31297673e+00],\n",
       "       [-7.79513300e-01,  8.00654259e-01, -1.34127240e+00,\n",
       "        -1.31297673e+00],\n",
       "       [-1.38535265e+00,  3.37848329e-01, -1.22754100e+00,\n",
       "        -1.31297673e+00],\n",
       "       [-1.26418478e+00,  1.06445364e-01, -1.22754100e+00,\n",
       "        -1.31297673e+00],\n",
       "       [-5.37177559e-01,  8.00654259e-01, -1.28440670e+00,\n",
       "        -1.05003079e+00],\n",
       "       [-7.79513300e-01,  2.42047502e+00, -1.28440670e+00,\n",
       "        -1.44444970e+00],\n",
       "       [-4.16009689e-01,  2.65187798e+00, -1.34127240e+00,\n",
       "        -1.31297673e+00],\n",
       "       [-1.14301691e+00,  1.06445364e-01, -1.28440670e+00,\n",
       "        -1.44444970e+00],\n",
       "       [-1.02184904e+00,  3.37848329e-01, -1.45500381e+00,\n",
       "        -1.31297673e+00],\n",
       "       [-4.16009689e-01,  1.03205722e+00, -1.39813811e+00,\n",
       "        -1.31297673e+00],\n",
       "       [-1.14301691e+00,  1.06445364e-01, -1.28440670e+00,\n",
       "        -1.44444970e+00],\n",
       "       [-1.74885626e+00, -1.24957601e-01, -1.39813811e+00,\n",
       "        -1.31297673e+00],\n",
       "       [-9.00681170e-01,  8.00654259e-01, -1.28440670e+00,\n",
       "        -1.31297673e+00],\n",
       "       [-1.02184904e+00,  1.03205722e+00, -1.39813811e+00,\n",
       "        -1.18150376e+00],\n",
       "       [-1.62768839e+00, -1.74477836e+00, -1.39813811e+00,\n",
       "        -1.18150376e+00],\n",
       "       [-1.74885626e+00,  3.37848329e-01, -1.39813811e+00,\n",
       "        -1.31297673e+00],\n",
       "       [-1.02184904e+00,  1.03205722e+00, -1.22754100e+00,\n",
       "        -7.87084847e-01],\n",
       "       [-9.00681170e-01,  1.72626612e+00, -1.05694388e+00,\n",
       "        -1.05003079e+00],\n",
       "       [-1.26418478e+00, -1.24957601e-01, -1.34127240e+00,\n",
       "        -1.18150376e+00],\n",
       "       [-9.00681170e-01,  1.72626612e+00, -1.22754100e+00,\n",
       "        -1.31297673e+00],\n",
       "       [-1.50652052e+00,  3.37848329e-01, -1.34127240e+00,\n",
       "        -1.31297673e+00],\n",
       "       [-6.58345429e-01,  1.49486315e+00, -1.28440670e+00,\n",
       "        -1.31297673e+00],\n",
       "       [-1.02184904e+00,  5.69251294e-01, -1.34127240e+00,\n",
       "        -1.31297673e+00],\n",
       "       [ 1.40150837e+00,  3.37848329e-01,  5.35295827e-01,\n",
       "         2.64698913e-01],\n",
       "       [ 6.74501145e-01,  3.37848329e-01,  4.21564419e-01,\n",
       "         3.96171883e-01],\n",
       "       [ 1.28034050e+00,  1.06445364e-01,  6.49027235e-01,\n",
       "         3.96171883e-01],\n",
       "       [-4.16009689e-01, -1.74477836e+00,  1.37235899e-01,\n",
       "         1.33225943e-01],\n",
       "       [ 7.95669016e-01, -5.87763531e-01,  4.78430123e-01,\n",
       "         3.96171883e-01],\n",
       "       [-1.73673948e-01, -5.87763531e-01,  4.21564419e-01,\n",
       "         1.33225943e-01],\n",
       "       [ 5.53333275e-01,  5.69251294e-01,  5.35295827e-01,\n",
       "         5.27644853e-01],\n",
       "       [-1.14301691e+00, -1.51337539e+00, -2.60824029e-01,\n",
       "        -2.61192967e-01],\n",
       "       [ 9.16836886e-01, -3.56360566e-01,  4.78430123e-01,\n",
       "         1.33225943e-01],\n",
       "       [-7.79513300e-01, -8.19166497e-01,  8.03701950e-02,\n",
       "         2.64698913e-01],\n",
       "       [-1.02184904e+00, -2.43898725e+00, -1.47092621e-01,\n",
       "        -2.61192967e-01],\n",
       "       [ 6.86617933e-02, -1.24957601e-01,  2.50967307e-01,\n",
       "         3.96171883e-01],\n",
       "       [ 1.89829664e-01, -1.97618132e+00,  1.37235899e-01,\n",
       "        -2.61192967e-01],\n",
       "       [ 3.10997534e-01, -3.56360566e-01,  5.35295827e-01,\n",
       "         2.64698913e-01],\n",
       "       [-2.94841818e-01, -3.56360566e-01, -9.02269170e-02,\n",
       "         1.33225943e-01],\n",
       "       [ 1.03800476e+00,  1.06445364e-01,  3.64698715e-01,\n",
       "         2.64698913e-01],\n",
       "       [-2.94841818e-01, -1.24957601e-01,  4.21564419e-01,\n",
       "         3.96171883e-01],\n",
       "       [-5.25060772e-02, -8.19166497e-01,  1.94101603e-01,\n",
       "        -2.61192967e-01],\n",
       "       [ 4.32165405e-01, -1.97618132e+00,  4.21564419e-01,\n",
       "         3.96171883e-01],\n",
       "       [-2.94841818e-01, -1.28197243e+00,  8.03701950e-02,\n",
       "        -1.29719997e-01],\n",
       "       [ 6.86617933e-02,  3.37848329e-01,  5.92161531e-01,\n",
       "         7.90590793e-01],\n",
       "       [ 3.10997534e-01, -5.87763531e-01,  1.37235899e-01,\n",
       "         1.33225943e-01],\n",
       "       [ 5.53333275e-01, -1.28197243e+00,  6.49027235e-01,\n",
       "         3.96171883e-01],\n",
       "       [ 3.10997534e-01, -5.87763531e-01,  5.35295827e-01,\n",
       "         1.75297293e-03],\n",
       "       [ 6.74501145e-01, -3.56360566e-01,  3.07833011e-01,\n",
       "         1.33225943e-01],\n",
       "       [ 9.16836886e-01, -1.24957601e-01,  3.64698715e-01,\n",
       "         2.64698913e-01],\n",
       "       [ 1.15917263e+00, -5.87763531e-01,  5.92161531e-01,\n",
       "         2.64698913e-01],\n",
       "       [ 1.03800476e+00, -1.24957601e-01,  7.05892939e-01,\n",
       "         6.59117823e-01],\n",
       "       [ 1.89829664e-01, -3.56360566e-01,  4.21564419e-01,\n",
       "         3.96171883e-01],\n",
       "       [-1.73673948e-01, -1.05056946e+00, -1.47092621e-01,\n",
       "        -2.61192967e-01],\n",
       "       [-4.16009689e-01, -1.51337539e+00,  2.35044910e-02,\n",
       "        -1.29719997e-01],\n",
       "       [-4.16009689e-01, -1.51337539e+00, -3.33612130e-02,\n",
       "        -2.61192967e-01],\n",
       "       [-5.25060772e-02, -8.19166497e-01,  8.03701950e-02,\n",
       "         1.75297293e-03],\n",
       "       [ 1.89829664e-01, -8.19166497e-01,  7.62758643e-01,\n",
       "         5.27644853e-01],\n",
       "       [-5.37177559e-01, -1.24957601e-01,  4.21564419e-01,\n",
       "         3.96171883e-01],\n",
       "       [ 1.89829664e-01,  8.00654259e-01,  4.21564419e-01,\n",
       "         5.27644853e-01],\n",
       "       [ 1.03800476e+00,  1.06445364e-01,  5.35295827e-01,\n",
       "         3.96171883e-01],\n",
       "       [ 5.53333275e-01, -1.74477836e+00,  3.64698715e-01,\n",
       "         1.33225943e-01],\n",
       "       [-2.94841818e-01, -1.24957601e-01,  1.94101603e-01,\n",
       "         1.33225943e-01],\n",
       "       [-4.16009689e-01, -1.28197243e+00,  1.37235899e-01,\n",
       "         1.33225943e-01],\n",
       "       [-4.16009689e-01, -1.05056946e+00,  3.64698715e-01,\n",
       "         1.75297293e-03],\n",
       "       [ 3.10997534e-01, -1.24957601e-01,  4.78430123e-01,\n",
       "         2.64698913e-01],\n",
       "       [-5.25060772e-02, -1.05056946e+00,  1.37235899e-01,\n",
       "         1.75297293e-03],\n",
       "       [-1.02184904e+00, -1.74477836e+00, -2.60824029e-01,\n",
       "        -2.61192967e-01],\n",
       "       [-2.94841818e-01, -8.19166497e-01,  2.50967307e-01,\n",
       "         1.33225943e-01],\n",
       "       [-1.73673948e-01, -1.24957601e-01,  2.50967307e-01,\n",
       "         1.75297293e-03],\n",
       "       [-1.73673948e-01, -3.56360566e-01,  2.50967307e-01,\n",
       "         1.33225943e-01],\n",
       "       [ 4.32165405e-01, -3.56360566e-01,  3.07833011e-01,\n",
       "         1.33225943e-01],\n",
       "       [-9.00681170e-01, -1.28197243e+00, -4.31421141e-01,\n",
       "        -1.29719997e-01],\n",
       "       [-1.73673948e-01, -5.87763531e-01,  1.94101603e-01,\n",
       "         1.33225943e-01],\n",
       "       [ 5.53333275e-01,  5.69251294e-01,  1.27454998e+00,\n",
       "         1.71090158e+00],\n",
       "       [-5.25060772e-02, -8.19166497e-01,  7.62758643e-01,\n",
       "         9.22063763e-01],\n",
       "       [ 1.52267624e+00, -1.24957601e-01,  1.21768427e+00,\n",
       "         1.18500970e+00],\n",
       "       [ 5.53333275e-01, -3.56360566e-01,  1.04708716e+00,\n",
       "         7.90590793e-01],\n",
       "       [ 7.95669016e-01, -1.24957601e-01,  1.16081857e+00,\n",
       "         1.31648267e+00],\n",
       "       [ 2.12851559e+00, -1.24957601e-01,  1.61574420e+00,\n",
       "         1.18500970e+00],\n",
       "       [-1.14301691e+00, -1.28197243e+00,  4.21564419e-01,\n",
       "         6.59117823e-01],\n",
       "       [ 1.76501198e+00, -3.56360566e-01,  1.44514709e+00,\n",
       "         7.90590793e-01],\n",
       "       [ 1.03800476e+00, -1.28197243e+00,  1.16081857e+00,\n",
       "         7.90590793e-01],\n",
       "       [ 1.64384411e+00,  1.26346019e+00,  1.33141568e+00,\n",
       "         1.71090158e+00],\n",
       "       [ 7.95669016e-01,  3.37848329e-01,  7.62758643e-01,\n",
       "         1.05353673e+00],\n",
       "       [ 6.74501145e-01, -8.19166497e-01,  8.76490051e-01,\n",
       "         9.22063763e-01],\n",
       "       [ 1.15917263e+00, -1.24957601e-01,  9.90221459e-01,\n",
       "         1.18500970e+00],\n",
       "       [-1.73673948e-01, -1.28197243e+00,  7.05892939e-01,\n",
       "         1.05353673e+00],\n",
       "       [-5.25060772e-02, -5.87763531e-01,  7.62758643e-01,\n",
       "         1.57942861e+00],\n",
       "       [ 6.74501145e-01,  3.37848329e-01,  8.76490051e-01,\n",
       "         1.44795564e+00],\n",
       "       [ 7.95669016e-01, -1.24957601e-01,  9.90221459e-01,\n",
       "         7.90590793e-01],\n",
       "       [ 2.24968346e+00,  1.72626612e+00,  1.67260991e+00,\n",
       "         1.31648267e+00],\n",
       "       [ 2.24968346e+00, -1.05056946e+00,  1.78634131e+00,\n",
       "         1.44795564e+00],\n",
       "       [ 1.89829664e-01, -1.97618132e+00,  7.05892939e-01,\n",
       "         3.96171883e-01],\n",
       "       [ 1.28034050e+00,  3.37848329e-01,  1.10395287e+00,\n",
       "         1.44795564e+00],\n",
       "       [-2.94841818e-01, -5.87763531e-01,  6.49027235e-01,\n",
       "         1.05353673e+00],\n",
       "       [ 2.24968346e+00, -5.87763531e-01,  1.67260991e+00,\n",
       "         1.05353673e+00],\n",
       "       [ 5.53333275e-01, -8.19166497e-01,  6.49027235e-01,\n",
       "         7.90590793e-01],\n",
       "       [ 1.03800476e+00,  5.69251294e-01,  1.10395287e+00,\n",
       "         1.18500970e+00],\n",
       "       [ 1.64384411e+00,  3.37848329e-01,  1.27454998e+00,\n",
       "         7.90590793e-01],\n",
       "       [ 4.32165405e-01, -5.87763531e-01,  5.92161531e-01,\n",
       "         7.90590793e-01],\n",
       "       [ 3.10997534e-01, -1.24957601e-01,  6.49027235e-01,\n",
       "         7.90590793e-01],\n",
       "       [ 6.74501145e-01, -5.87763531e-01,  1.04708716e+00,\n",
       "         1.18500970e+00],\n",
       "       [ 1.64384411e+00, -1.24957601e-01,  1.16081857e+00,\n",
       "         5.27644853e-01],\n",
       "       [ 1.88617985e+00, -5.87763531e-01,  1.33141568e+00,\n",
       "         9.22063763e-01],\n",
       "       [ 2.49201920e+00,  1.72626612e+00,  1.50201279e+00,\n",
       "         1.05353673e+00],\n",
       "       [ 6.74501145e-01, -5.87763531e-01,  1.04708716e+00,\n",
       "         1.31648267e+00],\n",
       "       [ 5.53333275e-01, -5.87763531e-01,  7.62758643e-01,\n",
       "         3.96171883e-01],\n",
       "       [ 3.10997534e-01, -1.05056946e+00,  1.04708716e+00,\n",
       "         2.64698913e-01],\n",
       "       [ 2.24968346e+00, -1.24957601e-01,  1.33141568e+00,\n",
       "         1.44795564e+00],\n",
       "       [ 5.53333275e-01,  8.00654259e-01,  1.04708716e+00,\n",
       "         1.57942861e+00],\n",
       "       [ 6.74501145e-01,  1.06445364e-01,  9.90221459e-01,\n",
       "         7.90590793e-01],\n",
       "       [ 1.89829664e-01, -1.24957601e-01,  5.92161531e-01,\n",
       "         7.90590793e-01],\n",
       "       [ 1.28034050e+00,  1.06445364e-01,  9.33355755e-01,\n",
       "         1.18500970e+00],\n",
       "       [ 1.03800476e+00,  1.06445364e-01,  1.04708716e+00,\n",
       "         1.57942861e+00],\n",
       "       [ 1.28034050e+00,  1.06445364e-01,  7.62758643e-01,\n",
       "         1.44795564e+00],\n",
       "       [-5.25060772e-02, -8.19166497e-01,  7.62758643e-01,\n",
       "         9.22063763e-01],\n",
       "       [ 1.15917263e+00,  3.37848329e-01,  1.21768427e+00,\n",
       "         1.44795564e+00],\n",
       "       [ 1.03800476e+00,  5.69251294e-01,  1.10395287e+00,\n",
       "         1.71090158e+00],\n",
       "       [ 1.03800476e+00, -1.24957601e-01,  8.19624347e-01,\n",
       "         1.44795564e+00],\n",
       "       [ 5.53333275e-01, -1.28197243e+00,  7.05892939e-01,\n",
       "         9.22063763e-01],\n",
       "       [ 7.95669016e-01, -1.24957601e-01,  8.19624347e-01,\n",
       "         1.05353673e+00],\n",
       "       [ 4.32165405e-01,  8.00654259e-01,  9.33355755e-01,\n",
       "         1.44795564e+00],\n",
       "       [ 6.86617933e-02, -1.24957601e-01,  7.62758643e-01,\n",
       "         7.90590793e-01]])"
      ]
     },
     "execution_count": 35,
     "metadata": {},
     "output_type": "execute_result"
    }
   ],
   "source": [
    "X_scaled"
   ]
  },
  {
   "cell_type": "markdown",
   "metadata": {
    "id": "sL2JJBuD9N_8"
   },
   "source": [
    "# **PCA**"
   ]
  },
  {
   "cell_type": "code",
   "execution_count": 36,
   "metadata": {
    "colab": {
     "base_uri": "https://localhost:8080/",
     "height": 423
    },
    "id": "9S9YBp8J6HPN",
    "outputId": "9dc43356-31f7-44fb-ecec-08ebb4c6e784"
   },
   "outputs": [
    {
     "data": {
      "text/html": [
       "<div>\n",
       "<style scoped>\n",
       "    .dataframe tbody tr th:only-of-type {\n",
       "        vertical-align: middle;\n",
       "    }\n",
       "\n",
       "    .dataframe tbody tr th {\n",
       "        vertical-align: top;\n",
       "    }\n",
       "\n",
       "    .dataframe thead th {\n",
       "        text-align: right;\n",
       "    }\n",
       "</style>\n",
       "<table border=\"1\" class=\"dataframe\">\n",
       "  <thead>\n",
       "    <tr style=\"text-align: right;\">\n",
       "      <th></th>\n",
       "      <th>PC1</th>\n",
       "      <th>PC2</th>\n",
       "    </tr>\n",
       "  </thead>\n",
       "  <tbody>\n",
       "    <tr>\n",
       "      <th>0</th>\n",
       "      <td>-2.264542</td>\n",
       "      <td>0.505704</td>\n",
       "    </tr>\n",
       "    <tr>\n",
       "      <th>1</th>\n",
       "      <td>-2.086426</td>\n",
       "      <td>-0.655405</td>\n",
       "    </tr>\n",
       "    <tr>\n",
       "      <th>2</th>\n",
       "      <td>-2.367950</td>\n",
       "      <td>-0.318477</td>\n",
       "    </tr>\n",
       "    <tr>\n",
       "      <th>3</th>\n",
       "      <td>-2.304197</td>\n",
       "      <td>-0.575368</td>\n",
       "    </tr>\n",
       "    <tr>\n",
       "      <th>4</th>\n",
       "      <td>-2.388777</td>\n",
       "      <td>0.674767</td>\n",
       "    </tr>\n",
       "    <tr>\n",
       "      <th>...</th>\n",
       "      <td>...</td>\n",
       "      <td>...</td>\n",
       "    </tr>\n",
       "    <tr>\n",
       "      <th>145</th>\n",
       "      <td>1.870522</td>\n",
       "      <td>0.382822</td>\n",
       "    </tr>\n",
       "    <tr>\n",
       "      <th>146</th>\n",
       "      <td>1.558492</td>\n",
       "      <td>-0.905314</td>\n",
       "    </tr>\n",
       "    <tr>\n",
       "      <th>147</th>\n",
       "      <td>1.520845</td>\n",
       "      <td>0.266795</td>\n",
       "    </tr>\n",
       "    <tr>\n",
       "      <th>148</th>\n",
       "      <td>1.376391</td>\n",
       "      <td>1.016362</td>\n",
       "    </tr>\n",
       "    <tr>\n",
       "      <th>149</th>\n",
       "      <td>0.959299</td>\n",
       "      <td>-0.022284</td>\n",
       "    </tr>\n",
       "  </tbody>\n",
       "</table>\n",
       "<p>150 rows × 2 columns</p>\n",
       "</div>"
      ],
      "text/plain": [
       "          PC1       PC2\n",
       "0   -2.264542  0.505704\n",
       "1   -2.086426 -0.655405\n",
       "2   -2.367950 -0.318477\n",
       "3   -2.304197 -0.575368\n",
       "4   -2.388777  0.674767\n",
       "..        ...       ...\n",
       "145  1.870522  0.382822\n",
       "146  1.558492 -0.905314\n",
       "147  1.520845  0.266795\n",
       "148  1.376391  1.016362\n",
       "149  0.959299 -0.022284\n",
       "\n",
       "[150 rows x 2 columns]"
      ]
     },
     "execution_count": 36,
     "metadata": {},
     "output_type": "execute_result"
    }
   ],
   "source": [
    "pca = PCA(n_components=2)\n",
    "X_pca = pca.fit_transform(X_scaled)\n",
    "X_pca = pd.DataFrame(X_pca, columns = ['PC1', 'PC2'])\n",
    "X_pca"
   ]
  },
  {
   "cell_type": "markdown",
   "metadata": {
    "id": "62N9XZvnSW8e"
   },
   "source": [
    "# **Train Test Split**"
   ]
  },
  {
   "cell_type": "code",
   "execution_count": 37,
   "metadata": {
    "id": "pbTQwBMX79og"
   },
   "outputs": [],
   "source": [
    "from sklearn.model_selection import train_test_split\n",
    "X_train,X_test,y_train,y_test = train_test_split(X_pca,y,test_size=0.1)"
   ]
  },
  {
   "cell_type": "markdown",
   "metadata": {
    "id": "NN8MpHZ2SflG"
   },
   "source": [
    "# **Model training**"
   ]
  },
  {
   "cell_type": "code",
   "execution_count": 38,
   "metadata": {
    "id": "-c2ayAXi-byU"
   },
   "outputs": [
    {
     "name": "stdout",
     "output_type": "stream",
     "text": [
      "1.0\n"
     ]
    },
    {
     "name": "stderr",
     "output_type": "stream",
     "text": [
      "C:\\Users\\HP\\anaconda3\\lib\\site-packages\\sklearn\\neighbors\\_classification.py:228: FutureWarning: Unlike other reduction functions (e.g. `skew`, `kurtosis`), the default behavior of `mode` typically preserves the axis it acts along. In SciPy 1.11.0, this behavior will change: the default value of `keepdims` will become False, the `axis` over which the statistic is taken will be eliminated, and the value None will no longer be accepted. Set `keepdims` to True or False to avoid this warning.\n",
      "  mode, _ = stats.mode(_y[neigh_ind, k], axis=1)\n"
     ]
    }
   ],
   "source": [
    "knn = KNeighborsClassifier()\n",
    "knn.fit(X_train,y_train)\n",
    "y_pred = knn.predict(X_test)\n",
    "print(accuracy_score(y_test,y_pred))\n"
   ]
  },
  {
   "cell_type": "code",
   "execution_count": null,
   "metadata": {},
   "outputs": [],
   "source": []
  },
  {
   "cell_type": "markdown",
   "metadata": {
    "id": "BmG8keCM-LX1"
   },
   "source": [
    "# Visualization of PCA"
   ]
  },
  {
   "cell_type": "code",
   "execution_count": 39,
   "metadata": {
    "id": "3tmI0oSZ7k8A"
   },
   "outputs": [],
   "source": [
    "finalDf = pd.concat([X_pca, df[['target']]], axis = 1)"
   ]
  },
  {
   "cell_type": "code",
   "execution_count": 40,
   "metadata": {
    "id": "WdGIq6pH9skU"
   },
   "outputs": [],
   "source": [
    "X = finalDf.iloc[:,:-1]\n",
    "y = finalDf.iloc[:,-1]\n"
   ]
  },
  {
   "cell_type": "code",
   "execution_count": 41,
   "metadata": {},
   "outputs": [
    {
     "data": {
      "text/plain": [
       "(135, 2)"
      ]
     },
     "execution_count": 41,
     "metadata": {},
     "output_type": "execute_result"
    }
   ],
   "source": [
    "X_train.shape"
   ]
  },
  {
   "cell_type": "code",
   "execution_count": 42,
   "metadata": {
    "colab": {
     "base_uri": "https://localhost:8080/",
     "height": 732
    },
    "id": "ebg8Ztlv6ax8",
    "outputId": "70e18f0f-0db4-454f-e324-4b805c4d0c68"
   },
   "outputs": [
    {
     "data": {
      "image/png": "[encoded data removed]",
      "text/plain": [
       "<Figure size 800x800 with 1 Axes>"
      ]
     },
     "metadata": {},
     "output_type": "display_data"
    }
   ],
   "source": [
    "fig = plt.figure(figsize = (8,8))\n",
    "ax = fig.add_subplot(1,1,1)\n",
    "ax.set_xlabel('PC1', fontsize = 15)\n",
    "ax.set_ylabel('PC2', fontsize = 15)\n",
    "ax.set_title('2 component PCA', fontsize = 20)\n",
    "\n",
    "targets = ['Iris-setosa', 'Iris-versicolor', 'Iris-virginica']\n",
    "colors = ['r', 'g', 'b']\n",
    "for target, color in zip(targets,colors):\n",
    "    indicesToKeep = finalDf['target'] == target\n",
    "    ax.scatter(finalDf.loc[indicesToKeep, 'PC1']\n",
    "               , finalDf.loc[indicesToKeep, 'PC2']\n",
    "               , c = color\n",
    "               , s = 50)\n",
    "ax.legend(targets)\n",
    "ax.grid()\n"
   ]
  }
 ],
 "metadata": {
  "colab": {
   "provenance": []
  },
  "kernelspec": {
   "display_name": "Python 3 (ipykernel)",
   "language": "python",
   "name": "python3"
  },
  "language_info": {
   "codemirror_mode": {
    "name": "ipython",
    "version": 3
   },
   "file_extension": ".py",
   "mimetype": "text/x-python",
   "name": "python",
   "nbconvert_exporter": "python",
   "pygments_lexer": "ipython3",
   "version": "3.9.13"
  }
 },
 "nbformat": 4,
 "nbformat_minor": 1
}
